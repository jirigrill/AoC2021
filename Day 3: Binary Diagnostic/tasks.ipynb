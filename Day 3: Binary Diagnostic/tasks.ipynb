{
 "cells": [
  {
   "cell_type": "code",
   "execution_count": 152,
   "metadata": {},
   "outputs": [],
   "source": [
    "with open(\"input copy.txt\") as f:\n",
    "    data = [x.strip() for x in f.readlines()]"
   ]
  },
  {
   "cell_type": "code",
   "execution_count": 150,
   "metadata": {},
   "outputs": [
    {
     "data": {
      "text/plain": [
       "198"
      ]
     },
     "execution_count": 150,
     "metadata": {},
     "output_type": "execute_result"
    }
   ],
   "source": [
    "gamma_rate = ''\n",
    "epsilon_rate = ''\n",
    "for position in range(len(data[0])):\n",
    "    #print('position: '+str(position))\n",
    "    count_1 = 0\n",
    "    count_0 = 0\n",
    "    for item in data:\n",
    "        #print(item)\n",
    "        #print(item[position])\n",
    "        if item[position] == '1':\n",
    "            count_1 = count_1+1\n",
    "        else:\n",
    "            count_0 = count_0+1\n",
    "    if count_1 > count_0:\n",
    "        gamma_rate = gamma_rate+'1'\n",
    "        epsilon_rate = epsilon_rate+'0'\n",
    "    else:\n",
    "        gamma_rate = gamma_rate+'0'\n",
    "        epsilon_rate = epsilon_rate+'1'\n",
    "\n",
    "int(gamma_rate, 2) * int(epsilon_rate, 2) "
   ]
  },
  {
   "cell_type": "code",
   "execution_count": 153,
   "metadata": {},
   "outputs": [
    {
     "name": "stdout",
     "output_type": "stream",
     "text": [
      "checking position: 0\n",
      "checking item: 00100\n",
      "checking item: 11110\n",
      "checking item: 10110\n",
      "checking item: 10111\n",
      "checking item: 10101\n",
      "checking item: 01111\n",
      "checking item: 00111\n",
      "checking item: 11100\n",
      "checking item: 10000\n",
      "checking item: 11001\n",
      "checking item: 00010\n",
      "checking item: 01010\n",
      "number of 1s: 7, number of 0s: 5\n",
      "there is more 1s then 0s\n",
      "new list: ['11110', '10110', '10111', '10101', '11100', '10000', '11001']\n",
      "checking position: 1\n",
      "checking item: 11110\n",
      "checking item: 10110\n",
      "checking item: 10111\n",
      "checking item: 10101\n",
      "checking item: 11100\n",
      "checking item: 10000\n",
      "checking item: 11001\n",
      "number of 1s: 3, number of 0s: 4\n",
      "there is more 0s then 1s\n",
      "new list: ['10110', '10111', '10101', '10000']\n",
      "checking position: 2\n",
      "checking item: 10110\n",
      "checking item: 10111\n",
      "checking item: 10101\n",
      "checking item: 10000\n",
      "number of 1s: 3, number of 0s: 1\n",
      "there is more 1s then 0s\n",
      "new list: ['10110', '10111', '10101']\n",
      "checking position: 3\n",
      "checking item: 10110\n",
      "checking item: 10111\n",
      "checking item: 10101\n",
      "number of 1s: 2, number of 0s: 1\n",
      "there is more 1s then 0s\n",
      "new list: ['10110', '10111']\n",
      "checking position: 4\n",
      "checking item: 10110\n",
      "checking item: 10111\n",
      "number of 1s: 1, number of 0s: 1\n",
      "new list: ['10110', '10111']\n"
     ]
    },
    {
     "data": {
      "text/plain": [
       "''"
      ]
     },
     "execution_count": 153,
     "metadata": {},
     "output_type": "execute_result"
    }
   ],
   "source": [
    "oxygen_rate = ''\n",
    "co2_rate = ''\n",
    "for position in range(len(data[0])):\n",
    "    count_1 = 0\n",
    "    count_0 = 0\n",
    "    print('checking position: '+str(position))\n",
    "    for item in data:\n",
    "        print('checking item: '+item)\n",
    "        if item[position] == '1':\n",
    "            count_1 = count_1+1\n",
    "        else:\n",
    "            count_0 = count_0+1\n",
    "    # more 1s or 0s?\n",
    "    print('number of 1s: '+ str(count_1)+', number of 0s: '+str(count_0))\n",
    "    if count_1 > count_0:\n",
    "        print('there is more 1s then 0s')\n",
    "        data = [item for item in data if item[position]=='1']\n",
    "    if count_0 > count_1:\n",
    "        print('there is more 0s then 1s')\n",
    "        data = [item for item in data if item[position]=='0']\n",
    "    print('new list: '+str(data))\n",
    "    if len(data) == 1:\n",
    "        oxygen_rate = [item for item in data if item[position]=='1']\n",
    "        break;\n",
    "oxygen_rate\n",
    "\n",
    "\n",
    "\n",
    "\n",
    "\n"
   ]
  }
 ],
 "metadata": {
  "interpreter": {
   "hash": "949777d72b0d2535278d3dc13498b2535136f6dfe0678499012e853ee9abcab1"
  },
  "kernelspec": {
   "display_name": "Python 3.9.7 64-bit",
   "name": "python3"
  },
  "language_info": {
   "codemirror_mode": {
    "name": "ipython",
    "version": 3
   },
   "file_extension": ".py",
   "mimetype": "text/x-python",
   "name": "python",
   "nbconvert_exporter": "python",
   "pygments_lexer": "ipython3",
   "version": "3.9.7"
  },
  "orig_nbformat": 4
 },
 "nbformat": 4,
 "nbformat_minor": 2
}
