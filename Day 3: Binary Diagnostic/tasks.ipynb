{
 "cells": [
  {
   "cell_type": "code",
   "execution_count": 1,
   "metadata": {},
   "outputs": [],
   "source": [
    "with open(\"input.txt\") as f:\n",
    "    data = [x.strip() for x in f.readlines()]"
   ]
  },
  {
   "cell_type": "code",
   "execution_count": 2,
   "metadata": {},
   "outputs": [
    {
     "data": {
      "text/plain": [
       "4191876"
      ]
     },
     "execution_count": 2,
     "metadata": {},
     "output_type": "execute_result"
    }
   ],
   "source": [
    "gamma_rate = ''\n",
    "epsilon_rate = ''\n",
    "for position in range(len(data[0])):\n",
    "    #print('position: '+str(position))\n",
    "    count_1 = 0\n",
    "    count_0 = 0\n",
    "    for item in data:\n",
    "        #print(item)\n",
    "        #print(item[position])\n",
    "        if item[position] == '1':\n",
    "            count_1 = count_1+1\n",
    "        else:\n",
    "            count_0 = count_0+1\n",
    "    if count_1 > count_0:\n",
    "        gamma_rate = gamma_rate+'1'\n",
    "        epsilon_rate = epsilon_rate+'0'\n",
    "    else:\n",
    "        gamma_rate = gamma_rate+'0'\n",
    "        epsilon_rate = epsilon_rate+'1'\n",
    "int(gamma_rate, 2) * int(epsilon_rate, 2) "
   ]
  },
  {
   "cell_type": "code",
   "execution_count": 3,
   "metadata": {},
   "outputs": [
    {
     "data": {
      "text/plain": [
       "['100110010111']"
      ]
     },
     "execution_count": 3,
     "metadata": {},
     "output_type": "execute_result"
    }
   ],
   "source": [
    "oxygen_rate = ''\n",
    "co2_rate = ''\n",
    "co2_data = data\n",
    "for co2_position in range(len(co2_data[0])):\n",
    "    count_1 = 0\n",
    "    count_0 = 0\n",
    "    for co2_item in co2_data:\n",
    "        if co2_item[co2_position] == '1':\n",
    "            count_1 = count_1+1\n",
    "        else:\n",
    "            count_0 = count_0+1\n",
    "    # more 1s or 0s?\n",
    "    if count_1 < count_0:\n",
    "        co2_data = [co2_item for co2_item in co2_data if co2_item[co2_position]=='1']\n",
    "    if count_0 < count_1:\n",
    "        co2_data = [co2_item for co2_item in co2_data if co2_item[co2_position]=='0']\n",
    "    if count_0 == count_1:\n",
    "        co2_data = [co2_item for co2_item in co2_data if co2_item[co2_position]=='0']\n",
    "    if len(co2_data) == 1:\n",
    "        co2_rate = [co2_item for co2_item in co2_data if co2_item[co2_position]=='0']\n",
    "\n",
    "co2_rate"
   ]
  },
  {
   "cell_type": "code",
   "execution_count": 4,
   "metadata": {},
   "outputs": [
    {
     "data": {
      "text/plain": [
       "['010101101111']"
      ]
     },
     "execution_count": 4,
     "metadata": {},
     "output_type": "execute_result"
    }
   ],
   "source": [
    "ox_data = data\n",
    "for ox_position in range(len(ox_data[0])):\n",
    "    count_1 = 0\n",
    "    count_0 = 0\n",
    "    for ox_item in ox_data:\n",
    "        if ox_item[ox_position] == '1':\n",
    "            count_1 = count_1+1\n",
    "        else:\n",
    "            count_0 = count_0+1\n",
    "    # more 1s or 0s?\n",
    "    if count_1 > count_0:\n",
    "        ox_data = [ox_item for ox_item in ox_data if ox_item[ox_position]=='1']\n",
    "    if count_0 > count_1:\n",
    "        ox_data = [ox_item for ox_item in ox_data if ox_item[ox_position]=='0']\n",
    "    if count_1 == count_0:\n",
    "        ox_data = [ox_item for ox_item in ox_data if ox_item[ox_position]=='1']\n",
    "    if len(ox_data) == 1:\n",
    "        oxygen_rate = [ox_item for ox_item in ox_data if ox_item[ox_position]=='1']\n",
    "\n",
    "oxygen_rate"
   ]
  },
  {
   "cell_type": "code",
   "execution_count": 5,
   "metadata": {},
   "outputs": [
    {
     "data": {
      "text/plain": [
       "3414905"
      ]
     },
     "execution_count": 5,
     "metadata": {},
     "output_type": "execute_result"
    }
   ],
   "source": [
    "int(oxygen_rate[0], 2) * int(co2_rate[0], 2) "
   ]
  }
 ],
 "metadata": {
  "interpreter": {
   "hash": "949777d72b0d2535278d3dc13498b2535136f6dfe0678499012e853ee9abcab1"
  },
  "kernelspec": {
   "display_name": "Python 3.9.7 64-bit",
   "name": "python3"
  },
  "language_info": {
   "codemirror_mode": {
    "name": "ipython",
    "version": 3
   },
   "file_extension": ".py",
   "mimetype": "text/x-python",
   "name": "python",
   "nbconvert_exporter": "python",
   "pygments_lexer": "ipython3",
   "version": "3.9.7"
  },
  "orig_nbformat": 4
 },
 "nbformat": 4,
 "nbformat_minor": 2
}
