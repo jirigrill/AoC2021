{
 "cells": [
  {
   "cell_type": "code",
   "execution_count": 63,
   "metadata": {},
   "outputs": [],
   "source": [
    "with open(\"input.txt\") as f:\n",
    "    data = [x.strip() for x in f.readlines()]"
   ]
  },
  {
   "cell_type": "code",
   "execution_count": 64,
   "metadata": {},
   "outputs": [],
   "source": [
    "commands =  [item.split(\" \")[0] for item in data]\n",
    "values = [item.split(\" \")[1] for item in data]"
   ]
  },
  {
   "cell_type": "code",
   "execution_count": 65,
   "metadata": {},
   "outputs": [
    {
     "data": {
      "text/plain": [
       "1654760"
      ]
     },
     "execution_count": 65,
     "metadata": {},
     "output_type": "execute_result"
    }
   ],
   "source": [
    "import pandas as pd\n",
    "df = pd.DataFrame(list(zip(commands, values)),\n",
    "               columns =['command', 'val']).astype({'val': 'int32'})\n",
    "sums = df.groupby('command').sum().reset_index()          \n",
    "\n",
    "#result for part 1\n",
    "int(sums[sums['command']=='forward']['val'])*(int(sums[sums['command']=='down']['val'])-int(sums[sums['command']=='up']['val']))"
   ]
  },
  {
   "cell_type": "code",
   "execution_count": 66,
   "metadata": {},
   "outputs": [
    {
     "data": {
      "text/plain": [
       "1956047400"
      ]
     },
     "execution_count": 66,
     "metadata": {},
     "output_type": "execute_result"
    }
   ],
   "source": [
    "aim = 0\n",
    "depth = 0\n",
    "horizontal_position = 0\n",
    "for index, row in df.iterrows():\n",
    "    #print(\"processing: \"+row['command']+\" \"+str(row['val']))\n",
    "    if(row['command']=='forward'):\n",
    "        horizontal_position = horizontal_position + int(row['val'])\n",
    "        depth = depth + (int(row['val']) * aim)\n",
    "    if(row['command']=='down'):\n",
    "        aim = aim + int(row['val'])\n",
    "    if(row['command']=='up'):\n",
    "        aim = aim - int(row['val'])\n",
    "    #print(\"horizontal position: \"+str(horizontal_position)+\", aim: \"+str(aim)+\", depth:\"+str(depth))\n",
    "\n",
    "#result for part 2\n",
    "horizontal_position*depth"
   ]
  }
 ],
 "metadata": {
  "interpreter": {
   "hash": "949777d72b0d2535278d3dc13498b2535136f6dfe0678499012e853ee9abcab1"
  },
  "kernelspec": {
   "display_name": "Python 3.9.7 64-bit",
   "name": "python3"
  },
  "language_info": {
   "codemirror_mode": {
    "name": "ipython",
    "version": 3
   },
   "file_extension": ".py",
   "mimetype": "text/x-python",
   "name": "python",
   "nbconvert_exporter": "python",
   "pygments_lexer": "ipython3",
   "version": "3.9.7"
  },
  "orig_nbformat": 4
 },
 "nbformat": 4,
 "nbformat_minor": 2
}
